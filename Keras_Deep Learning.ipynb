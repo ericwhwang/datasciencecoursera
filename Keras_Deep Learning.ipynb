{
  "nbformat": 4,
  "nbformat_minor": 0,
  "metadata": {
    "colab": {
      "name": "Untitled1.ipynb",
      "version": "0.3.2",
      "provenance": []
    },
    "kernelspec": {
      "name": "python3",
      "display_name": "Python 3"
    }
  },
  "cells": [
    {
      "cell_type": "markdown",
      "metadata": {
        "id": "view-in-github",
        "colab_type": "text"
      },
      "source": [
        "[View in Colaboratory](https://colab.research.google.com/github/ericwhwang/datasciencecoursera/blob/master/Keras_Deep%20Learning.ipynb)"
      ]
    },
    {
      "metadata": {
        "id": "aX4gzcPaaKwf",
        "colab_type": "code",
        "colab": {
          "base_uri": "https://localhost:8080/",
          "height": 34
        },
        "outputId": "45215a59-b3db-4dff-d177-23bd2f37ffde"
      },
      "cell_type": "code",
      "source": [
        "print(\"Hello World\")"
      ],
      "execution_count": 1,
      "outputs": [
        {
          "output_type": "stream",
          "text": [
            "Hello World\n"
          ],
          "name": "stdout"
        }
      ]
    },
    {
      "metadata": {
        "id": "ns_LzHp5buHJ",
        "colab_type": "code",
        "colab": {
          "base_uri": "https://localhost:8080/",
          "height": 122
        },
        "outputId": "fdc28c7f-4d98-4dbc-9f5b-cf262c284c5a"
      },
      "cell_type": "code",
      "source": [
        "!pip install keras"
      ],
      "execution_count": 3,
      "outputs": [
        {
          "output_type": "stream",
          "text": [
            "Requirement already satisfied: keras in /usr/local/lib/python3.6/dist-packages (2.1.6)\r\n",
            "Requirement already satisfied: scipy>=0.14 in /usr/local/lib/python3.6/dist-packages (from keras) (0.19.1)\r\n",
            "Requirement already satisfied: h5py in /usr/local/lib/python3.6/dist-packages (from keras) (2.7.1)\r\n",
            "Requirement already satisfied: pyyaml in /usr/local/lib/python3.6/dist-packages (from keras) (3.12)\r\n",
            "Requirement already satisfied: six>=1.9.0 in /usr/local/lib/python3.6/dist-packages (from keras) (1.11.0)\r\n",
            "Requirement already satisfied: numpy>=1.9.1 in /usr/local/lib/python3.6/dist-packages (from keras) (1.14.3)\r\n"
          ],
          "name": "stdout"
        }
      ]
    },
    {
      "metadata": {
        "id": "UnqPDZyMaZOA",
        "colab_type": "code",
        "colab": {
          "base_uri": "https://localhost:8080/",
          "height": 1181
        },
        "outputId": "0a3291f1-000d-48c0-93bd-64e7ab354dfe"
      },
      "cell_type": "code",
      "source": [
        "'''Trains a simple deep NN on the MNIST dataset.\n",
        "Gets to 98.40% test accuracy after 20 epochs\n",
        "(there is *a lot* of margin for parameter tuning).\n",
        "2 seconds per epoch on a K520 GPU.\n",
        "'''\n",
        "\n",
        "from __future__ import print_function\n",
        "\n",
        "import keras\n",
        "from keras.datasets import mnist\n",
        "from keras.models import Sequential\n",
        "from keras.layers import Dense, Dropout\n",
        "from keras.optimizers import RMSprop\n",
        "\n",
        "batch_size = 128\n",
        "num_classes = 10\n",
        "epochs = 20\n",
        "\n",
        "# the data, split between train and test sets\n",
        "(x_train, y_train), (x_test, y_test) = mnist.load_data()\n",
        "\n",
        "x_train = x_train.reshape(60000, 784)\n",
        "x_test = x_test.reshape(10000, 784)\n",
        "x_train = x_train.astype('float32')\n",
        "x_test = x_test.astype('float32')\n",
        "x_train /= 255\n",
        "x_test /= 255\n",
        "print(x_train.shape[0], 'train samples')\n",
        "print(x_test.shape[0], 'test samples')\n",
        "\n",
        "# convert class vectors to binary class matrices\n",
        "y_train = keras.utils.to_categorical(y_train, num_classes)\n",
        "y_test = keras.utils.to_categorical(y_test, num_classes)\n",
        "\n",
        "model = Sequential()\n",
        "model.add(Dense(512, activation='relu', input_shape=(784,)))\n",
        "model.add(Dropout(0.2))\n",
        "model.add(Dense(512, activation='relu'))\n",
        "model.add(Dropout(0.2))\n",
        "model.add(Dense(num_classes, activation='softmax'))\n",
        "\n",
        "model.summary()\n",
        "\n",
        "model.compile(loss='categorical_crossentropy',\n",
        "              optimizer=RMSprop(),\n",
        "              metrics=['accuracy'])\n",
        "\n",
        "history = model.fit(x_train, y_train,\n",
        "                    batch_size=batch_size,\n",
        "                    epochs=epochs,\n",
        "                    verbose=1,\n",
        "                    validation_data=(x_test, y_test))\n",
        "score = model.evaluate(x_test, y_test, verbose=0)\n",
        "print('Test loss:', score[0])\n",
        "print('Test accuracy:', score[1])"
      ],
      "execution_count": 2,
      "outputs": [
        {
          "output_type": "stream",
          "text": [
            "Using TensorFlow backend.\n"
          ],
          "name": "stderr"
        },
        {
          "output_type": "stream",
          "text": [
            "Downloading data from https://s3.amazonaws.com/img-datasets/mnist.npz\n",
            "11493376/11490434 [==============================] - 3s 0us/step\n",
            "60000 train samples\n",
            "10000 test samples\n",
            "_________________________________________________________________\n",
            "Layer (type)                 Output Shape              Param #   \n",
            "=================================================================\n",
            "dense_1 (Dense)              (None, 512)               401920    \n",
            "_________________________________________________________________\n",
            "dropout_1 (Dropout)          (None, 512)               0         \n",
            "_________________________________________________________________\n",
            "dense_2 (Dense)              (None, 512)               262656    \n",
            "_________________________________________________________________\n",
            "dropout_2 (Dropout)          (None, 512)               0         \n",
            "_________________________________________________________________\n",
            "dense_3 (Dense)              (None, 10)                5130      \n",
            "=================================================================\n",
            "Total params: 669,706\n",
            "Trainable params: 669,706\n",
            "Non-trainable params: 0\n",
            "_________________________________________________________________\n",
            "Train on 60000 samples, validate on 10000 samples\n",
            "Epoch 1/20\n",
            "26624/60000 [============>.................] - ETA: 4s - loss: 0.3622 - acc: 0.8871"
          ],
          "name": "stdout"
        },
        {
          "output_type": "stream",
          "text": [
            "60000/60000 [==============================] - 9s 153us/step - loss: 0.2466 - acc: 0.9233 - val_loss: 0.1255 - val_acc: 0.9616\n",
            "Epoch 2/20\n",
            "60000/60000 [==============================] - 9s 150us/step - loss: 0.1037 - acc: 0.9681 - val_loss: 0.1040 - val_acc: 0.9699\n",
            "Epoch 3/20\n",
            "60000/60000 [==============================] - 9s 150us/step - loss: 0.0753 - acc: 0.9771 - val_loss: 0.0749 - val_acc: 0.9788\n",
            "Epoch 4/20\n",
            "  512/60000 [..............................] - ETA: 9s - loss: 0.0664 - acc: 0.9766 "
          ],
          "name": "stdout"
        },
        {
          "output_type": "stream",
          "text": [
            "60000/60000 [==============================] - 9s 151us/step - loss: 0.0604 - acc: 0.9817 - val_loss: 0.0771 - val_acc: 0.9799\n",
            "Epoch 5/20\n",
            "60000/60000 [==============================] - 9s 151us/step - loss: 0.0509 - acc: 0.9849 - val_loss: 0.0777 - val_acc: 0.9802\n",
            "Epoch 6/20\n",
            "55296/60000 [==========================>...] - ETA: 0s - loss: 0.0435 - acc: 0.9867"
          ],
          "name": "stdout"
        },
        {
          "output_type": "stream",
          "text": [
            "60000/60000 [==============================] - 9s 154us/step - loss: 0.0444 - acc: 0.9867 - val_loss: 0.0770 - val_acc: 0.9811\n",
            "Epoch 7/20\n",
            "60000/60000 [==============================] - 9s 152us/step - loss: 0.0385 - acc: 0.9888 - val_loss: 0.0789 - val_acc: 0.9817\n",
            "Epoch 8/20\n",
            "60000/60000 [==============================] - 9s 152us/step - loss: 0.0338 - acc: 0.9897 - val_loss: 0.0811 - val_acc: 0.9816\n",
            "Epoch 9/20\n",
            " 5504/60000 [=>............................] - ETA: 7s - loss: 0.0273 - acc: 0.9913"
          ],
          "name": "stdout"
        },
        {
          "output_type": "stream",
          "text": [
            "60000/60000 [==============================] - 9s 152us/step - loss: 0.0321 - acc: 0.9904 - val_loss: 0.0825 - val_acc: 0.9837\n",
            "Epoch 10/20\n",
            "60000/60000 [==============================] - 9s 152us/step - loss: 0.0284 - acc: 0.9918 - val_loss: 0.0776 - val_acc: 0.9827\n",
            "Epoch 11/20\n",
            "56064/60000 [===========================>..] - ETA: 0s - loss: 0.0254 - acc: 0.9926"
          ],
          "name": "stdout"
        },
        {
          "output_type": "stream",
          "text": [
            "60000/60000 [==============================] - 9s 153us/step - loss: 0.0261 - acc: 0.9925 - val_loss: 0.0953 - val_acc: 0.9816\n",
            "Epoch 12/20\n",
            "60000/60000 [==============================] - 9s 152us/step - loss: 0.0248 - acc: 0.9926 - val_loss: 0.0925 - val_acc: 0.9830\n",
            "Epoch 13/20\n",
            "60000/60000 [==============================] - 9s 150us/step - loss: 0.0235 - acc: 0.9937 - val_loss: 0.0945 - val_acc: 0.9825\n",
            "Epoch 14/20\n",
            " 5120/60000 [=>............................] - ETA: 8s - loss: 0.0172 - acc: 0.9959"
          ],
          "name": "stdout"
        },
        {
          "output_type": "stream",
          "text": [
            "60000/60000 [==============================] - 9s 150us/step - loss: 0.0217 - acc: 0.9938 - val_loss: 0.0887 - val_acc: 0.9846\n",
            "Epoch 15/20\n",
            "60000/60000 [==============================] - 9s 153us/step - loss: 0.0214 - acc: 0.9939 - val_loss: 0.0950 - val_acc: 0.9841\n",
            "Epoch 16/20\n",
            "56192/60000 [===========================>..] - ETA: 0s - loss: 0.0199 - acc: 0.9946"
          ],
          "name": "stdout"
        },
        {
          "output_type": "stream",
          "text": [
            "60000/60000 [==============================] - 9s 152us/step - loss: 0.0201 - acc: 0.9946 - val_loss: 0.1043 - val_acc: 0.9830\n",
            "Epoch 17/20\n",
            "60000/60000 [==============================] - 9s 153us/step - loss: 0.0181 - acc: 0.9950 - val_loss: 0.1118 - val_acc: 0.9836\n",
            "Epoch 18/20\n",
            "60000/60000 [==============================] - 9s 153us/step - loss: 0.0197 - acc: 0.9950 - val_loss: 0.0954 - val_acc: 0.9847\n",
            "Epoch 19/20\n",
            " 5120/60000 [=>............................] - ETA: 8s - loss: 0.0160 - acc: 0.9959"
          ],
          "name": "stdout"
        },
        {
          "output_type": "stream",
          "text": [
            "60000/60000 [==============================] - 9s 154us/step - loss: 0.0202 - acc: 0.9948 - val_loss: 0.1014 - val_acc: 0.9827\n",
            "Epoch 20/20\n",
            "60000/60000 [==============================] - 9s 153us/step - loss: 0.0166 - acc: 0.9956 - val_loss: 0.1032 - val_acc: 0.9848\n",
            "Test loss: 0.10321285911940171\n",
            "Test accuracy: 0.9848\n"
          ],
          "name": "stdout"
        }
      ]
    },
    {
      "metadata": {
        "id": "Gt0weqZQakPR",
        "colab_type": "code",
        "colab": {}
      },
      "cell_type": "code",
      "source": [
        ""
      ],
      "execution_count": 0,
      "outputs": []
    }
  ]
}